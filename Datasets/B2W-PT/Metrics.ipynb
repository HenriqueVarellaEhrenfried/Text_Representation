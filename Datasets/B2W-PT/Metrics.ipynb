{
 "cells": [
  {
   "cell_type": "code",
   "execution_count": 1,
   "source": [
    "import sqlite3\n",
    "import pandas as pd\n",
    "\n",
    "print(\">> All imports succefully done!\")"
   ],
   "outputs": [
    {
     "output_type": "stream",
     "name": "stdout",
     "text": [
      ">> All imports succefully done!\n"
     ]
    }
   ],
   "metadata": {}
  },
  {
   "cell_type": "code",
   "execution_count": 2,
   "source": [
    "print(\">> Prepering to connect SQLITE dataset!\")\n",
    "dat = sqlite3.connect('B2W_Reviews01.db')\n",
    "print(\">> Successfully connected SQLITE dataset!\")"
   ],
   "outputs": [
    {
     "output_type": "stream",
     "name": "stdout",
     "text": [
      ">> Prepering to connect SQLITE dataset!\n",
      ">> Successfully connected SQLITE dataset!\n"
     ]
    }
   ],
   "metadata": {}
  },
  {
   "cell_type": "code",
   "execution_count": 3,
   "source": [
    "print(\">> Prepering to read SQLITE dataset!\")\n",
    "df = pd.read_sql_query(\"SELECT * FROM B2W_Reviews01\", dat)\n",
    "print(\">> Successfully read SQLITE dataset!\")"
   ],
   "outputs": [
    {
     "output_type": "stream",
     "name": "stdout",
     "text": [
      ">> Prepering to read SQLITE dataset!\n",
      ">> Successfully read SQLITE dataset!\n"
     ]
    }
   ],
   "metadata": {}
  },
  {
   "cell_type": "code",
   "execution_count": 4,
   "source": [
    "# Columns of Dataframe\n",
    "for col in df.columns:\n",
    "    print(col)"
   ],
   "outputs": [
    {
     "output_type": "stream",
     "name": "stdout",
     "text": [
      "submission_date\n",
      "reviewer_id\n",
      "product_id\n",
      "product_name\n",
      "product_brand\n",
      "site_category_lv1\n",
      "site_category_lv2\n",
      "review_title\n",
      "overall_rating\n",
      "recommend_to_a_friend\n",
      "review_text\n",
      "reviewer_birth_year\n",
      "reviewer_gender\n",
      "reviewer_state\n"
     ]
    }
   ],
   "metadata": {}
  },
  {
   "cell_type": "code",
   "execution_count": 5,
   "source": [
    "df.groupby(['reviewer_gender']).size().reset_index(name='counts')"
   ],
   "outputs": [
    {
     "output_type": "execute_result",
     "data": {
      "text/html": [
       "<div>\n",
       "<style scoped>\n",
       "    .dataframe tbody tr th:only-of-type {\n",
       "        vertical-align: middle;\n",
       "    }\n",
       "\n",
       "    .dataframe tbody tr th {\n",
       "        vertical-align: top;\n",
       "    }\n",
       "\n",
       "    .dataframe thead th {\n",
       "        text-align: right;\n",
       "    }\n",
       "</style>\n",
       "<table border=\"1\" class=\"dataframe\">\n",
       "  <thead>\n",
       "    <tr style=\"text-align: right;\">\n",
       "      <th></th>\n",
       "      <th>reviewer_gender</th>\n",
       "      <th>counts</th>\n",
       "    </tr>\n",
       "  </thead>\n",
       "  <tbody>\n",
       "    <tr>\n",
       "      <th>0</th>\n",
       "      <td>F</td>\n",
       "      <td>62071</td>\n",
       "    </tr>\n",
       "    <tr>\n",
       "      <th>1</th>\n",
       "      <td>M</td>\n",
       "      <td>66166</td>\n",
       "    </tr>\n",
       "    <tr>\n",
       "      <th>2</th>\n",
       "      <td>null</td>\n",
       "      <td>4136</td>\n",
       "    </tr>\n",
       "  </tbody>\n",
       "</table>\n",
       "</div>"
      ],
      "text/plain": [
       "  reviewer_gender  counts\n",
       "0               F   62071\n",
       "1               M   66166\n",
       "2            null    4136"
      ]
     },
     "metadata": {},
     "execution_count": 5
    }
   ],
   "metadata": {}
  },
  {
   "cell_type": "code",
   "execution_count": 6,
   "source": [
    "df.groupby(['overall_rating']).size().reset_index(name='counts')"
   ],
   "outputs": [
    {
     "output_type": "execute_result",
     "data": {
      "text/html": [
       "<div>\n",
       "<style scoped>\n",
       "    .dataframe tbody tr th:only-of-type {\n",
       "        vertical-align: middle;\n",
       "    }\n",
       "\n",
       "    .dataframe tbody tr th {\n",
       "        vertical-align: top;\n",
       "    }\n",
       "\n",
       "    .dataframe thead th {\n",
       "        text-align: right;\n",
       "    }\n",
       "</style>\n",
       "<table border=\"1\" class=\"dataframe\">\n",
       "  <thead>\n",
       "    <tr style=\"text-align: right;\">\n",
       "      <th></th>\n",
       "      <th>overall_rating</th>\n",
       "      <th>counts</th>\n",
       "    </tr>\n",
       "  </thead>\n",
       "  <tbody>\n",
       "    <tr>\n",
       "      <th>0</th>\n",
       "      <td>1</td>\n",
       "      <td>27369</td>\n",
       "    </tr>\n",
       "    <tr>\n",
       "      <th>1</th>\n",
       "      <td>2</td>\n",
       "      <td>8389</td>\n",
       "    </tr>\n",
       "    <tr>\n",
       "      <th>2</th>\n",
       "      <td>3</td>\n",
       "      <td>16315</td>\n",
       "    </tr>\n",
       "    <tr>\n",
       "      <th>3</th>\n",
       "      <td>4</td>\n",
       "      <td>32345</td>\n",
       "    </tr>\n",
       "    <tr>\n",
       "      <th>4</th>\n",
       "      <td>5</td>\n",
       "      <td>47955</td>\n",
       "    </tr>\n",
       "  </tbody>\n",
       "</table>\n",
       "</div>"
      ],
      "text/plain": [
       "   overall_rating  counts\n",
       "0               1   27369\n",
       "1               2    8389\n",
       "2               3   16315\n",
       "3               4   32345\n",
       "4               5   47955"
      ]
     },
     "metadata": {},
     "execution_count": 6
    }
   ],
   "metadata": {}
  },
  {
   "cell_type": "code",
   "execution_count": 7,
   "source": [
    "df.groupby(['recommend_to_a_friend']).size().reset_index(name='counts')"
   ],
   "outputs": [
    {
     "output_type": "execute_result",
     "data": {
      "text/html": [
       "<div>\n",
       "<style scoped>\n",
       "    .dataframe tbody tr th:only-of-type {\n",
       "        vertical-align: middle;\n",
       "    }\n",
       "\n",
       "    .dataframe tbody tr th {\n",
       "        vertical-align: top;\n",
       "    }\n",
       "\n",
       "    .dataframe thead th {\n",
       "        text-align: right;\n",
       "    }\n",
       "</style>\n",
       "<table border=\"1\" class=\"dataframe\">\n",
       "  <thead>\n",
       "    <tr style=\"text-align: right;\">\n",
       "      <th></th>\n",
       "      <th>recommend_to_a_friend</th>\n",
       "      <th>counts</th>\n",
       "    </tr>\n",
       "  </thead>\n",
       "  <tbody>\n",
       "    <tr>\n",
       "      <th>0</th>\n",
       "      <td>No</td>\n",
       "      <td>35987</td>\n",
       "    </tr>\n",
       "    <tr>\n",
       "      <th>1</th>\n",
       "      <td>Yes</td>\n",
       "      <td>96368</td>\n",
       "    </tr>\n",
       "    <tr>\n",
       "      <th>2</th>\n",
       "      <td>null</td>\n",
       "      <td>18</td>\n",
       "    </tr>\n",
       "  </tbody>\n",
       "</table>\n",
       "</div>"
      ],
      "text/plain": [
       "  recommend_to_a_friend  counts\n",
       "0                    No   35987\n",
       "1                   Yes   96368\n",
       "2                  null      18"
      ]
     },
     "metadata": {},
     "execution_count": 7
    }
   ],
   "metadata": {}
  },
  {
   "cell_type": "code",
   "execution_count": 8,
   "source": [
    "df.groupby(['recommend_to_a_friend', 'overall_rating']).size().reset_index(name='counts')"
   ],
   "outputs": [
    {
     "output_type": "execute_result",
     "data": {
      "text/html": [
       "<div>\n",
       "<style scoped>\n",
       "    .dataframe tbody tr th:only-of-type {\n",
       "        vertical-align: middle;\n",
       "    }\n",
       "\n",
       "    .dataframe tbody tr th {\n",
       "        vertical-align: top;\n",
       "    }\n",
       "\n",
       "    .dataframe thead th {\n",
       "        text-align: right;\n",
       "    }\n",
       "</style>\n",
       "<table border=\"1\" class=\"dataframe\">\n",
       "  <thead>\n",
       "    <tr style=\"text-align: right;\">\n",
       "      <th></th>\n",
       "      <th>recommend_to_a_friend</th>\n",
       "      <th>overall_rating</th>\n",
       "      <th>counts</th>\n",
       "    </tr>\n",
       "  </thead>\n",
       "  <tbody>\n",
       "    <tr>\n",
       "      <th>0</th>\n",
       "      <td>No</td>\n",
       "      <td>1</td>\n",
       "      <td>26574</td>\n",
       "    </tr>\n",
       "    <tr>\n",
       "      <th>1</th>\n",
       "      <td>No</td>\n",
       "      <td>2</td>\n",
       "      <td>6321</td>\n",
       "    </tr>\n",
       "    <tr>\n",
       "      <th>2</th>\n",
       "      <td>No</td>\n",
       "      <td>3</td>\n",
       "      <td>1879</td>\n",
       "    </tr>\n",
       "    <tr>\n",
       "      <th>3</th>\n",
       "      <td>No</td>\n",
       "      <td>4</td>\n",
       "      <td>508</td>\n",
       "    </tr>\n",
       "    <tr>\n",
       "      <th>4</th>\n",
       "      <td>No</td>\n",
       "      <td>5</td>\n",
       "      <td>705</td>\n",
       "    </tr>\n",
       "    <tr>\n",
       "      <th>5</th>\n",
       "      <td>Yes</td>\n",
       "      <td>1</td>\n",
       "      <td>795</td>\n",
       "    </tr>\n",
       "    <tr>\n",
       "      <th>6</th>\n",
       "      <td>Yes</td>\n",
       "      <td>2</td>\n",
       "      <td>2068</td>\n",
       "    </tr>\n",
       "    <tr>\n",
       "      <th>7</th>\n",
       "      <td>Yes</td>\n",
       "      <td>3</td>\n",
       "      <td>14434</td>\n",
       "    </tr>\n",
       "    <tr>\n",
       "      <th>8</th>\n",
       "      <td>Yes</td>\n",
       "      <td>4</td>\n",
       "      <td>31837</td>\n",
       "    </tr>\n",
       "    <tr>\n",
       "      <th>9</th>\n",
       "      <td>Yes</td>\n",
       "      <td>5</td>\n",
       "      <td>47234</td>\n",
       "    </tr>\n",
       "    <tr>\n",
       "      <th>10</th>\n",
       "      <td>null</td>\n",
       "      <td>3</td>\n",
       "      <td>2</td>\n",
       "    </tr>\n",
       "    <tr>\n",
       "      <th>11</th>\n",
       "      <td>null</td>\n",
       "      <td>5</td>\n",
       "      <td>16</td>\n",
       "    </tr>\n",
       "  </tbody>\n",
       "</table>\n",
       "</div>"
      ],
      "text/plain": [
       "   recommend_to_a_friend  overall_rating  counts\n",
       "0                     No               1   26574\n",
       "1                     No               2    6321\n",
       "2                     No               3    1879\n",
       "3                     No               4     508\n",
       "4                     No               5     705\n",
       "5                    Yes               1     795\n",
       "6                    Yes               2    2068\n",
       "7                    Yes               3   14434\n",
       "8                    Yes               4   31837\n",
       "9                    Yes               5   47234\n",
       "10                  null               3       2\n",
       "11                  null               5      16"
      ]
     },
     "metadata": {},
     "execution_count": 8
    }
   ],
   "metadata": {}
  },
  {
   "cell_type": "code",
   "execution_count": 9,
   "source": [
    "# df.loc[(df['overall_rating'] == 3) & (df['recommend_to_a_friend'] == 'null')]\n",
    "\n",
    "df_negative = df.loc[(df['overall_rating'] == 1) | (df['overall_rating'] == 2)]\n",
    "df_neutral = df.loc[(df['overall_rating'] == 3)]\n",
    "df_positive = df.loc[(df['overall_rating'] == 4) | (df['overall_rating'] == 5)]"
   ],
   "outputs": [],
   "metadata": {}
  },
  {
   "cell_type": "code",
   "execution_count": 10,
   "source": [
    "print(\"Negative:\", df_negative['overall_rating'].size)\n",
    "print(\"Neutral:\",df_neutral['overall_rating'].size)\n",
    "print(\"Positive:\",df_positive['overall_rating'].size)\n",
    "print(\"-----------------\")\n",
    "print('No:', df.loc[(df['recommend_to_a_friend'] == 'No')]['recommend_to_a_friend'].size)\n",
    "print('Yes:', df.loc[(df['recommend_to_a_friend'] == 'Yes')]['recommend_to_a_friend'].size)\n",
    "print(\"-----------------\")\n",
    "print('F:', df.loc[(df['reviewer_gender'] == 'F')]['reviewer_gender'].size)\n",
    "print('M:', df.loc[(df['reviewer_gender'] == 'M')]['reviewer_gender'].size)"
   ],
   "outputs": [
    {
     "output_type": "stream",
     "name": "stdout",
     "text": [
      "Negative: 35758\n",
      "Neutral: 16315\n",
      "Positive: 80300\n",
      "-----------------\n",
      "No: 35987\n",
      "Yes: 96368\n",
      "-----------------\n",
      "F: 62071\n",
      "M: 66166\n"
     ]
    }
   ],
   "metadata": {}
  },
  {
   "cell_type": "code",
   "execution_count": 11,
   "source": [
    "df_negative[['overall_rating', 'review_text']]"
   ],
   "outputs": [
    {
     "output_type": "execute_result",
     "data": {
      "text/html": [
       "<div>\n",
       "<style scoped>\n",
       "    .dataframe tbody tr th:only-of-type {\n",
       "        vertical-align: middle;\n",
       "    }\n",
       "\n",
       "    .dataframe tbody tr th {\n",
       "        vertical-align: top;\n",
       "    }\n",
       "\n",
       "    .dataframe thead th {\n",
       "        text-align: right;\n",
       "    }\n",
       "</style>\n",
       "<table border=\"1\" class=\"dataframe\">\n",
       "  <thead>\n",
       "    <tr style=\"text-align: right;\">\n",
       "      <th></th>\n",
       "      <th>overall_rating</th>\n",
       "      <th>review_text</th>\n",
       "    </tr>\n",
       "  </thead>\n",
       "  <tbody>\n",
       "    <tr>\n",
       "      <th>9</th>\n",
       "      <td>1</td>\n",
       "      <td>MEU PRODUTO NAO FOI ENTREGUE E A AMERICANAS ES...</td>\n",
       "    </tr>\n",
       "    <tr>\n",
       "      <th>13</th>\n",
       "      <td>1</td>\n",
       "      <td>Esse celular não vale nada a bateria não vale ...</td>\n",
       "    </tr>\n",
       "    <tr>\n",
       "      <th>15</th>\n",
       "      <td>2</td>\n",
       "      <td>a mochila nao esta fechando direito por isso n...</td>\n",
       "    </tr>\n",
       "    <tr>\n",
       "      <th>25</th>\n",
       "      <td>1</td>\n",
       "      <td>Eu não recebi o produto e a americanas sabe di...</td>\n",
       "    </tr>\n",
       "    <tr>\n",
       "      <th>28</th>\n",
       "      <td>2</td>\n",
       "      <td>Gostaria de cancelar esta compra, peço sua gen...</td>\n",
       "    </tr>\n",
       "    <tr>\n",
       "      <th>...</th>\n",
       "      <td>...</td>\n",
       "      <td>...</td>\n",
       "    </tr>\n",
       "    <tr>\n",
       "      <th>132356</th>\n",
       "      <td>2</td>\n",
       "      <td>O produto não tem uma trava para a tampa, quan...</td>\n",
       "    </tr>\n",
       "    <tr>\n",
       "      <th>132364</th>\n",
       "      <td>1</td>\n",
       "      <td>O travesseiro quando colocamos a cabeça, ele f...</td>\n",
       "    </tr>\n",
       "    <tr>\n",
       "      <th>132365</th>\n",
       "      <td>1</td>\n",
       "      <td>Infelizmente o Netflix não funciona e esse era...</td>\n",
       "    </tr>\n",
       "    <tr>\n",
       "      <th>132371</th>\n",
       "      <td>1</td>\n",
       "      <td>Material fraco, poderia ser melhor. Ficou deve...</td>\n",
       "    </tr>\n",
       "    <tr>\n",
       "      <th>132372</th>\n",
       "      <td>1</td>\n",
       "      <td>Comprei esse produto, quando chegou estava com...</td>\n",
       "    </tr>\n",
       "  </tbody>\n",
       "</table>\n",
       "<p>35758 rows × 2 columns</p>\n",
       "</div>"
      ],
      "text/plain": [
       "        overall_rating                                        review_text\n",
       "9                    1  MEU PRODUTO NAO FOI ENTREGUE E A AMERICANAS ES...\n",
       "13                   1  Esse celular não vale nada a bateria não vale ...\n",
       "15                   2  a mochila nao esta fechando direito por isso n...\n",
       "25                   1  Eu não recebi o produto e a americanas sabe di...\n",
       "28                   2  Gostaria de cancelar esta compra, peço sua gen...\n",
       "...                ...                                                ...\n",
       "132356               2  O produto não tem uma trava para a tampa, quan...\n",
       "132364               1  O travesseiro quando colocamos a cabeça, ele f...\n",
       "132365               1  Infelizmente o Netflix não funciona e esse era...\n",
       "132371               1  Material fraco, poderia ser melhor. Ficou deve...\n",
       "132372               1  Comprei esse produto, quando chegou estava com...\n",
       "\n",
       "[35758 rows x 2 columns]"
      ]
     },
     "metadata": {},
     "execution_count": 11
    }
   ],
   "metadata": {}
  },
  {
   "cell_type": "code",
   "execution_count": 12,
   "source": [
    "neg = df_negative[['recommend_to_a_friend', 'review_text']].sample(n=5, random_state=1)\n",
    "neg"
   ],
   "outputs": [
    {
     "output_type": "execute_result",
     "data": {
      "text/html": [
       "<div>\n",
       "<style scoped>\n",
       "    .dataframe tbody tr th:only-of-type {\n",
       "        vertical-align: middle;\n",
       "    }\n",
       "\n",
       "    .dataframe tbody tr th {\n",
       "        vertical-align: top;\n",
       "    }\n",
       "\n",
       "    .dataframe thead th {\n",
       "        text-align: right;\n",
       "    }\n",
       "</style>\n",
       "<table border=\"1\" class=\"dataframe\">\n",
       "  <thead>\n",
       "    <tr style=\"text-align: right;\">\n",
       "      <th></th>\n",
       "      <th>recommend_to_a_friend</th>\n",
       "      <th>review_text</th>\n",
       "    </tr>\n",
       "  </thead>\n",
       "  <tbody>\n",
       "    <tr>\n",
       "      <th>90962</th>\n",
       "      <td>No</td>\n",
       "      <td>Comprei o produto e veio faltando a haste/cabo...</td>\n",
       "    </tr>\n",
       "    <tr>\n",
       "      <th>79693</th>\n",
       "      <td>No</td>\n",
       "      <td>quando escolhi no site aparecia a colher no po...</td>\n",
       "    </tr>\n",
       "    <tr>\n",
       "      <th>43751</th>\n",
       "      <td>No</td>\n",
       "      <td>Mercadoria atrasada, amassada. Não gostei e nã...</td>\n",
       "    </tr>\n",
       "    <tr>\n",
       "      <th>107527</th>\n",
       "      <td>No</td>\n",
       "      <td>Comprei 3 banquetas, sendo que 1 delas veio qu...</td>\n",
       "    </tr>\n",
       "    <tr>\n",
       "      <th>43348</th>\n",
       "      <td>No</td>\n",
       "      <td>Não tem como avaliar! O produto nunca chegou! ...</td>\n",
       "    </tr>\n",
       "  </tbody>\n",
       "</table>\n",
       "</div>"
      ],
      "text/plain": [
       "       recommend_to_a_friend  \\\n",
       "90962                     No   \n",
       "79693                     No   \n",
       "43751                     No   \n",
       "107527                    No   \n",
       "43348                     No   \n",
       "\n",
       "                                              review_text  \n",
       "90962   Comprei o produto e veio faltando a haste/cabo...  \n",
       "79693   quando escolhi no site aparecia a colher no po...  \n",
       "43751   Mercadoria atrasada, amassada. Não gostei e nã...  \n",
       "107527  Comprei 3 banquetas, sendo que 1 delas veio qu...  \n",
       "43348   Não tem como avaliar! O produto nunca chegou! ...  "
      ]
     },
     "metadata": {},
     "execution_count": 12
    }
   ],
   "metadata": {}
  },
  {
   "cell_type": "code",
   "execution_count": 14,
   "source": [
    "reviews = df['review_text'].tolist()\n",
    "num_words = []\n",
    "\n",
    "for rev in reviews:\n",
    "    num_words.append(len(rev.split(\" \")))\n",
    "\n"
   ],
   "outputs": [],
   "metadata": {}
  },
  {
   "cell_type": "code",
   "execution_count": 15,
   "source": [
    "import statistics\n",
    "\n",
    "print(\"statistics imported\")"
   ],
   "outputs": [
    {
     "output_type": "stream",
     "name": "stdout",
     "text": [
      "statistics imported\n"
     ]
    }
   ],
   "metadata": {}
  },
  {
   "cell_type": "code",
   "execution_count": 58,
   "source": [
    "mean_words = statistics.mean(num_words)\n",
    "geo_mean_words = statistics.geometric_mean(num_words)\n",
    "harmonic_mean_words = statistics.harmonic_mean(num_words)\n",
    "median_words = statistics.median(num_words)\n",
    "mode_words = statistics.mode(num_words)\n",
    "multimode = statistics.multimode(num_words)\n",
    "\n",
    "\n",
    "stdev = statistics.stdev(num_words)\n",
    "pstdev = statistics.pstdev(num_words)\n",
    "quantiles = statistics.quantiles(num_words)\n",
    "max_value = max(num_words)\n",
    "min_value = min(num_words)\n",
    "bigger_75 = sum( y > 75 for y in num_words )\n",
    "bigger_150 = sum( y > 150 for y in num_words )"
   ],
   "outputs": [],
   "metadata": {}
  },
  {
   "cell_type": "code",
   "execution_count": 59,
   "source": [
    "print(\">> MEAN: \", mean_words)\n",
    "print(\">> GEOMETRIC MEAN: \", geo_mean_words)\n",
    "print(\">> HARMONIC MEAN: \", harmonic_mean_words)\n",
    "print(\">> MEDIAN: \", median_words)\n",
    "print(\">> MODE: \", mode_words)\n",
    "print(\">> MULTIMODE: \", multimode)\n",
    "print(\">> STANDARD DEVIATION SAMPLE: \", stdev)\n",
    "print(\">> STANDARD DEVIATION POPULATION: \", pstdev)\n",
    "print(\">> QUANTILES: \", quantiles)\n",
    "print(\">> MAX VALUE: \", max_value)\n",
    "print(\">> MIN VALUE: \", min_value)\n",
    "print(\">>NUM ITEMS: \", len(num_words))\n",
    "print(\">>NUM ITEMS > 75: \", bigger_75)\n",
    "print(\">>NUM ITEMS > 150: \", bigger_150)\n"
   ],
   "outputs": [
    {
     "output_type": "stream",
     "name": "stdout",
     "text": [
      ">> MEAN:  24.296533280956087\n",
      ">> GEOMETRIC MEAN:  18.47804203265341\n",
      ">> HARMONIC MEAN:  14.861573589133467\n",
      ">> MEDIAN:  16\n",
      ">> MODE:  10\n",
      ">> MULTIMODE:  [10]\n",
      ">> STANDARD DEVIATION SAMPLE:  24.505055449178855\n",
      ">> STANDARD DEVIATION POPULATION:  24.5049628883782\n",
      ">> QUANTILES:  [11.0, 16.0, 28.0]\n",
      ">> MAX VALUE:  796\n",
      ">> MIN VALUE:  1\n",
      ">>NUM ITEMS:  132373\n",
      ">>NUM ITEMS > 75:  4892\n",
      ">>NUM ITEMS > 150:  688\n"
     ]
    }
   ],
   "metadata": {}
  },
  {
   "cell_type": "code",
   "execution_count": 55,
   "source": [
    "import numpy as np\n",
    "import matplotlib.pyplot as plt\n",
    "\n",
    "plt.figure(figsize=(50,50))\n",
    "\n",
    "\n",
    "# A custom function to calculate\n",
    "# probability distribution function\n",
    "\n",
    "# To generate an array of x-values\n",
    "x = np.arange(-80, 130, 0.1)\n",
    "\n",
    "\n",
    "mean = mean_words\n",
    "std = pstdev\n",
    "y_out = 1/(std * np.sqrt(2 * np.pi)) * np.exp( - (x - mean)**2 / (2 * std**2))\n",
    "\n",
    "\n",
    "  \n",
    "# To generate an array of\n",
    "# y-values using corresponding x-values\n",
    "y = y_out\n",
    "  \n",
    "# Plotting the bell-shaped curve\n",
    "plt.style.use('seaborn')\n",
    "plt.figure(figsize = (6, 6))\n",
    "plt.plot(x, y, color = 'black',\n",
    "         linestyle = 'solid')\n",
    "  \n",
    "# plt.scatter( x, y, marker = 'o', s = 25, color = 'red')\n",
    "\n",
    "\n",
    "plt.scatter( x, y, marker = 'o', s = 25, color = 'red')\n",
    "plt.show()"
   ],
   "outputs": [
    {
     "output_type": "display_data",
     "data": {
      "text/plain": [
       "<Figure size 3600x3600 with 0 Axes>"
      ]
     },
     "metadata": {}
    },
    {
     "output_type": "display_data",
     "data": {
      "image/png": "[encoded data removed]",
      "text/plain": [
       "<Figure size 432x432 with 1 Axes>"
      ]
     },
     "metadata": {}
    }
   ],
   "metadata": {}
  }
 ],
 "metadata": {
  "orig_nbformat": 4,
  "language_info": {
   "name": "python",
   "version": "3.8.5",
   "mimetype": "text/x-python",
   "codemirror_mode": {
    "name": "ipython",
    "version": 3
   },
   "pygments_lexer": "ipython3",
   "nbconvert_exporter": "python",
   "file_extension": ".py"
  },
  "kernelspec": {
   "name": "python3",
   "display_name": "Python 3.8.5 64-bit ('B2W': venv)"
  },
  "interpreter": {
   "hash": "267c52873be2fab54453f4dd229cd9bff0bd07ff51b97aefaab1dcd594ca7924"
  }
 },
 "nbformat": 4,
 "nbformat_minor": 2
}